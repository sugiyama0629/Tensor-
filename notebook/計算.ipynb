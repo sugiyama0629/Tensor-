{
 "cells": [
  {
   "cell_type": "code",
   "execution_count": 1,
   "id": "fea9f2f0",
   "metadata": {},
   "outputs": [
    {
     "data": {
      "text/plain": [
       "2"
      ]
     },
     "metadata": {},
     "output_type": "display_data"
    }
   ],
   "source": [
    "1 + 1"
   ]
  },
  {
   "cell_type": "code",
   "execution_count": null,
   "id": "b1f808d9",
   "metadata": {},
   "outputs": [
    {
     "name": "stdout",
     "output_type": "stream",
     "text": [
      "Z =27.048782764334526\n"
     ]
    }
   ],
   "source": [
    "# スピン値(配列で表示)\n",
    "σ = [-1, 1]\n",
    "\n",
    "# ハミルトニアンの計算（隣接ペアの和）\n",
    "function energy(config, L, J)　#config:スピン配置を1次元配列として渡す\n",
    "    E = 0.0 #全体のエネルギーを初期化\n",
    "    for x in 1:L\n",
    "        for y in 1:L\n",
    "            s = config[(x-1)*L + y]\n",
    "            # 右隣（周期境界なし）\n",
    "            if y < L\n",
    "                s_r = config[(x-1)*L + y + 1]\n",
    "                E -= J * s * s_r\n",
    "            end\n",
    "            # 下隣\n",
    "            if x < L\n",
    "                s_d = config[x*L + y]\n",
    "                E -= J * s * s_d\n",
    "            end\n",
    "        end\n",
    "    end\n",
    "    return E\n",
    "end\n",
    "\n",
    "# 分配関数を計算\n",
    "function partition_function(L; β=1.0, J=1.0)\n",
    "    Z = 0.0\n",
    "    N = L * L\n",
    "    # 全スピン状態列挙（2^(L^2)）\n",
    "    for i in 0:(2^N - 1)\n",
    "        config = zeros(Int, N)\n",
    "        for k in 1:N\n",
    "            # ビットを使ってスピン割り当て\n",
    "            config[k] = σ[bitstring(i)[end-k+1] == '1' ? 2 : 1]\n",
    "        end\n",
    "        E = energy(config, L, J)\n",
    "        Z += exp(-β * E)\n",
    "    end\n",
    "    return Z\n",
    "end\n",
    "\n",
    "# 例：L=2, β=0.5, J=1.0\n",
    "println(\"Z =\", partition_function(2, β=0.5, J=1.0))"
   ]
  },
  {
   "cell_type": "code",
   "execution_count": 3,
   "id": "83427fd6",
   "metadata": {},
   "outputs": [
    {
     "name": "stderr",
     "output_type": "stream",
     "text": [
      "\u001b[32m\u001b[1m    Updating\u001b[22m\u001b[39m registry at `~/.julia/registries/General.toml`\n",
      "\u001b[32m\u001b[1m   Resolving\u001b[22m\u001b[39m package versions...\n",
      "\u001b[32m\u001b[1m  No Changes\u001b[22m\u001b[39m to `~/.julia/environments/v1.11/Project.toml`\n",
      "\u001b[32m\u001b[1m  No Changes\u001b[22m\u001b[39m to `~/.julia/environments/v1.11/Manifest.toml`\n"
     ]
    }
   ],
   "source": [
    "using Pkg\n",
    "Pkg.add(\"ITensors\")"
   ]
  },
  {
   "cell_type": "code",
   "execution_count": 5,
   "id": "a452f22a",
   "metadata": {},
   "outputs": [
    {
     "name": "stdout",
     "output_type": "stream",
     "text": [
      "T4 = ITensor(s1, s2, s3, s4) = ITensor ord=4\n",
      "Dim 1: (dim=2|id=868|\"a,s1\")\n",
      "Dim 2: (dim=2|id=673|\"b,s2\")\n",
      "Dim 3: (dim=2|id=615|\"c,s3\")\n",
      "Dim 4: (dim=2|id=761|\"d,s4\")\n",
      "NDTensors.EmptyStorage{NDTensors.EmptyNumber, NDTensors.Dense{NDTensors.EmptyNumber, Vector{NDTensors.EmptyNumber}}}\n",
      " 2×2×2×2\n",
      "\n",
      "\n"
     ]
    },
    {
     "data": {
      "text/plain": [
       "ITensor ord=4 (dim=2|id=868|\"a,s1\") (dim=2|id=673|\"b,s2\") (dim=2|id=615|\"c,s3\") (dim=2|id=761|\"d,s4\")\n",
       "NDTensors.EmptyStorage{NDTensors.EmptyNumber, NDTensors.Dense{NDTensors.EmptyNumber, Vector{NDTensors.EmptyNumber}}}"
      ]
     },
     "metadata": {},
     "output_type": "display_data"
    }
   ],
   "source": [
    "#4脚テンソル\n",
    "using ITensors\n",
    "\n",
    "s1 = Index(2, \"s1,a\")\n",
    "s2 = Index(2, \"s2,b\")\n",
    "s3 = Index(2, \"s3,c\")\n",
    "s4 = Index(2, \"s4,d\")\n",
    "\n",
    "@show T4 = ITensor(s1, s2, s3, s4) #ここで4脚テンソルの関数を作成"
   ]
  },
  {
   "cell_type": "code",
   "execution_count": 6,
   "id": "504edc2c",
   "metadata": {},
   "outputs": [
    {
     "name": "stdout",
     "output_type": "stream",
     "text": [
      "T3 = ITensor(s1, s2, s3) = ITensor ord=3\n",
      "Dim 1: (dim=2|id=572|\"a,s1\")\n",
      "Dim 2: (dim=2|id=804|\"b,s2\")\n",
      "Dim 3: (dim=2|id=86|\"c,s3\")\n",
      "NDTensors.EmptyStorage{NDTensors.EmptyNumber, NDTensors.Dense{NDTensors.EmptyNumber, Vector{NDTensors.EmptyNumber}}}\n",
      " 2×2×2\n",
      "\n",
      "\n"
     ]
    },
    {
     "data": {
      "text/plain": [
       "ITensor ord=3 (dim=2|id=572|\"a,s1\") (dim=2|id=804|\"b,s2\") (dim=2|id=86|\"c,s3\")\n",
       "NDTensors.EmptyStorage{NDTensors.EmptyNumber, NDTensors.Dense{NDTensors.EmptyNumber, Vector{NDTensors.EmptyNumber}}}"
      ]
     },
     "metadata": {},
     "output_type": "display_data"
    }
   ],
   "source": [
    "#3脚テンソル\n",
    "s1 = Index(2, \"s1,a\")\n",
    "s2 = Index(2, \"s2,b\")\n",
    "s3 = Index(2, \"s3,c\")\n",
    "\n",
    "@show T3 = ITensor(s1, s2, s3)"
   ]
  },
  {
   "cell_type": "code",
   "execution_count": 7,
   "id": "111716a8",
   "metadata": {},
   "outputs": [
    {
     "name": "stdout",
     "output_type": "stream",
     "text": [
      "T2 = ITensor(s1, s2) = ITensor ord=2\n",
      "Dim 1: (dim=2|id=788|\"a,s1\")\n",
      "Dim 2: (dim=2|id=115|\"b,s2\")\n",
      "NDTensors.EmptyStorage{NDTensors.EmptyNumber, NDTensors.Dense{NDTensors.EmptyNumber, Vector{NDTensors.EmptyNumber}}}\n",
      " 2×2\n",
      "\n",
      "\n"
     ]
    },
    {
     "data": {
      "text/plain": [
       "ITensor ord=2 (dim=2|id=788|\"a,s1\") (dim=2|id=115|\"b,s2\")\n",
       "NDTensors.EmptyStorage{NDTensors.EmptyNumber, NDTensors.Dense{NDTensors.EmptyNumber, Vector{NDTensors.EmptyNumber}}}"
      ]
     },
     "metadata": {},
     "output_type": "display_data"
    }
   ],
   "source": [
    "#2脚テンソル\n",
    "s1 = Index(2, \"s1,a\")\n",
    "s2 = Index(2, \"s2,b\")\n",
    "\n",
    "@show T2 = ITensor(s1, s2)"
   ]
  },
  {
   "cell_type": "code",
   "execution_count": 14,
   "id": "89f71e03",
   "metadata": {},
   "outputs": [
    {
     "name": "stdout",
     "output_type": "stream",
     "text": [
      "1.1737927246921138\n"
     ]
    }
   ],
   "source": [
    "#1D3サイトの分配関数\n",
    "T3 = randomITensor(s1, s2, s3)\n",
    "\n",
    "# 各インデックスに値を指定（0始まりではなく 1始まり！）\n",
    "val = T3[s1 => 1, s2 => 2, s3 => 1]\n",
    "\n",
    "Z = val * val\n",
    "\n",
    "println(Z)"
   ]
  },
  {
   "cell_type": "code",
   "execution_count": 26,
   "id": "433e5883",
   "metadata": {},
   "outputs": [
    {
     "data": {
      "text/plain": [
       "3×3 Matrix{Index{Int64}}:\n",
       " (dim=2|id=830|\"s_1_1\")  (dim=2|id=363|\"s_1_2\")  (dim=2|id=29|\"s_1_3\")\n",
       " (dim=2|id=34|\"s_2_1\")   (dim=2|id=413|\"s_2_2\")  (dim=2|id=444|\"s_2_3\")\n",
       " (dim=2|id=365|\"s_3_1\")  (dim=2|id=862|\"s_3_2\")  (dim=2|id=315|\"s_3_3\")"
      ]
     },
     "metadata": {},
     "output_type": "display_data"
    }
   ],
   "source": [
    "Lx, Ly = 3, 3  # 格子サイズ\n",
    "sites = [Index(2, \"s_$(x)_$(y)\") for x in 1:Lx, y in 1:Ly]"
   ]
  },
  {
   "cell_type": "code",
   "execution_count": 27,
   "id": "e8252741",
   "metadata": {},
   "outputs": [
    {
     "data": {
      "text/plain": [
       "3×3 Matrix{ITensor}:\n",
       " ITensor ord=5\n",
       "Dim 1: (dim=2|id=830|\"s_1_1\")\n",
       "Dim 2: (dim=2|id=17|\"u_(dim=2|id=830|\")\n",
       "Dim 3: (dim=2|id=367|\"d_(dim=2|id=830|\")\n",
       "Dim 4: (dim=2|id=285|\"l_(dim=2|id=830|\")\n",
       "Dim 5: (dim=2|id=525|\"r_(dim=2|id=830|\")\n",
       "Dense{Float64, Vector{Float64}}\n",
       " 2×2×2×2×2\n",
       "[:, :, 1, 1, 1] =\n",
       " -0.51012  1.29651\n",
       "  1.08189  1.66494\n",
       "\n",
       "[:, :, 2, 1, 1] =\n",
       " -0.950124  -0.0308649\n",
       " -0.963813   0.475427\n",
       "\n",
       "[:, :, 1, 2, 1] =\n",
       "  1.88898   -1.01133\n",
       " -0.287457   0.972447\n",
       "\n",
       "[:, :, 2, 2, 1] =\n",
       "  0.242137  -0.277621\n",
       " -0.983578   0.752278\n",
       "\n",
       "[:, :, 1, 1, 2] =\n",
       "  1.26146   0.176534\n",
       " -0.141896  0.121593\n",
       "\n",
       "[:, :, 2, 1, 2] =\n",
       "  1.82926   1.11413\n",
       " -0.727649  0.954634\n",
       "\n",
       "[:, :, 1, 2, 2] =\n",
       " 0.848899  -1.07434\n",
       " 0.509124   0.715596\n",
       "\n",
       "[:, :, 2, 2, 2] =\n",
       " -0.437591  -1.96245\n",
       " -0.782389  -0.731854             …  ITensor ord=5\n",
       "Dim 1: (dim=2|id=29|\"s_1_3\")\n",
       "Dim 2: (dim=2|id=476|\"u_(dim=2|id=29|\"\")\n",
       "Dim 3: (dim=2|id=458|\"d_(dim=2|id=29|\"\")\n",
       "Dim 4: (dim=2|id=8|\"l_(dim=2|id=29|\"\")\n",
       "Dim 5: (dim=2|id=601|\"r_(dim=2|id=29|\"\")\n",
       "Dense{Float64, Vector{Float64}}\n",
       " 2×2×2×2×2\n",
       "[:, :, 1, 1, 1] =\n",
       " -0.253618  1.73482\n",
       "  2.18289   0.0381907\n",
       "\n",
       "[:, :, 2, 1, 1] =\n",
       " -0.197578   0.524315\n",
       "  0.0497089  0.587424\n",
       "\n",
       "[:, :, 1, 2, 1] =\n",
       " -1.8311    -0.0261904\n",
       "  0.580001   0.291773\n",
       "\n",
       "[:, :, 2, 2, 1] =\n",
       " -1.23976    1.07779\n",
       "  0.896455  -1.59183\n",
       "\n",
       "[:, :, 1, 1, 2] =\n",
       " -0.627309  0.606776\n",
       " -0.605751  1.94999\n",
       "\n",
       "[:, :, 2, 1, 2] =\n",
       " -1.91273   -0.74029\n",
       "  0.333155  -0.527475\n",
       "\n",
       "[:, :, 1, 2, 2] =\n",
       " 0.683431  -0.760928\n",
       " 0.514095  -0.393363\n",
       "\n",
       "[:, :, 2, 2, 2] =\n",
       "  0.413782  -0.96778\n",
       " -0.93001   -0.5697\n",
       " ITensor ord=5\n",
       "Dim 1: (dim=2|id=34|\"s_2_1\")\n",
       "Dim 2: (dim=2|id=114|\"u_(dim=2|id=34|\"\")\n",
       "Dim 3: (dim=2|id=883|\"d_(dim=2|id=34|\"\")\n",
       "Dim 4: (dim=2|id=452|\"l_(dim=2|id=34|\"\")\n",
       "Dim 5: (dim=2|id=929|\"r_(dim=2|id=34|\"\")\n",
       "Dense{Float64, Vector{Float64}}\n",
       " 2×2×2×2×2\n",
       "[:, :, 1, 1, 1] =\n",
       " -0.349881  -0.00398053\n",
       "  0.253231  -0.960598\n",
       "\n",
       "[:, :, 2, 1, 1] =\n",
       " -0.363394  -1.24664\n",
       "  1.03136    0.596932\n",
       "\n",
       "[:, :, 1, 2, 1] =\n",
       " -0.4367     -1.16346\n",
       " -0.0714731  -0.984636\n",
       "\n",
       "[:, :, 2, 2, 1] =\n",
       " -0.648986   0.746392\n",
       " -0.639907  -0.216095\n",
       "\n",
       "[:, :, 1, 1, 2] =\n",
       " -0.391948  0.966362\n",
       " -0.889747  0.300861\n",
       "\n",
       "[:, :, 2, 1, 2] =\n",
       "  0.191666   0.320615\n",
       " -0.249908  -0.76465\n",
       "\n",
       "[:, :, 1, 2, 2] =\n",
       " -0.877506   0.131491\n",
       "  1.06775   -0.279106\n",
       "\n",
       "[:, :, 2, 2, 2] =\n",
       " 0.256893  -0.238448\n",
       " 0.842352   2.41235     ITensor ord=5\n",
       "Dim 1: (dim=2|id=444|\"s_2_3\")\n",
       "Dim 2: (dim=2|id=292|\"u_(dim=2|id=444|\")\n",
       "Dim 3: (dim=2|id=111|\"d_(dim=2|id=444|\")\n",
       "Dim 4: (dim=2|id=92|\"l_(dim=2|id=444|\")\n",
       "Dim 5: (dim=2|id=238|\"r_(dim=2|id=444|\")\n",
       "Dense{Float64, Vector{Float64}}\n",
       " 2×2×2×2×2\n",
       "[:, :, 1, 1, 1] =\n",
       " 1.03356  -0.263317\n",
       " 1.67422  -1.80688\n",
       "\n",
       "[:, :, 2, 1, 1] =\n",
       " 0.637007   0.783206\n",
       " 0.947335  -0.828806\n",
       "\n",
       "[:, :, 1, 2, 1] =\n",
       " -0.471101  -0.969621\n",
       " -0.447323  -0.505037\n",
       "\n",
       "[:, :, 2, 2, 1] =\n",
       " 0.124382  -0.775192\n",
       " 0.172836  -0.373215\n",
       "\n",
       "[:, :, 1, 1, 2] =\n",
       "  1.41623   0.113979\n",
       " -1.26983  -0.329189\n",
       "\n",
       "[:, :, 2, 1, 2] =\n",
       " -1.18706  1.00948\n",
       "  1.22326  0.179961\n",
       "\n",
       "[:, :, 1, 2, 2] =\n",
       " -0.384598   -0.539511\n",
       " -0.0579806  -2.07119\n",
       "\n",
       "[:, :, 2, 2, 2] =\n",
       "  1.77082   -0.360512\n",
       " -0.463732   1.24976\n",
       " ITensor ord=5\n",
       "Dim 1: (dim=2|id=365|\"s_3_1\")\n",
       "Dim 2: (dim=2|id=443|\"u_(dim=2|id=365|\")\n",
       "Dim 3: (dim=2|id=904|\"d_(dim=2|id=365|\")\n",
       "Dim 4: (dim=2|id=684|\"l_(dim=2|id=365|\")\n",
       "Dim 5: (dim=2|id=329|\"r_(dim=2|id=365|\")\n",
       "Dense{Float64, Vector{Float64}}\n",
       " 2×2×2×2×2\n",
       "[:, :, 1, 1, 1] =\n",
       " -0.336966  -0.378837\n",
       " -0.781524   1.70485\n",
       "\n",
       "[:, :, 2, 1, 1] =\n",
       " -0.905     -1.08931\n",
       "  0.906373   0.393911\n",
       "\n",
       "[:, :, 1, 2, 1] =\n",
       " 0.120967    -0.125295\n",
       " 0.00111551   1.64371\n",
       "\n",
       "[:, :, 2, 2, 1] =\n",
       "  0.157363  -0.146278\n",
       " -1.05526   -0.730194\n",
       "\n",
       "[:, :, 1, 1, 2] =\n",
       " -0.963224   0.489557\n",
       " -1.21467   -0.3903\n",
       "\n",
       "[:, :, 2, 1, 2] =\n",
       " -1.04874  -0.296895\n",
       " -2.04658   0.663978\n",
       "\n",
       "[:, :, 1, 2, 2] =\n",
       " 1.7348    -1.42534\n",
       " 0.739539  -0.109923\n",
       "\n",
       "[:, :, 2, 2, 2] =\n",
       " -0.0853734   0.861183\n",
       " -0.250003   -0.76778       ITensor ord=5\n",
       "Dim 1: (dim=2|id=315|\"s_3_3\")\n",
       "Dim 2: (dim=2|id=422|\"u_(dim=2|id=315|\")\n",
       "Dim 3: (dim=2|id=680|\"d_(dim=2|id=315|\")\n",
       "Dim 4: (dim=2|id=928|\"l_(dim=2|id=315|\")\n",
       "Dim 5: (dim=2|id=706|\"r_(dim=2|id=315|\")\n",
       "Dense{Float64, Vector{Float64}}\n",
       " 2×2×2×2×2\n",
       "[:, :, 1, 1, 1] =\n",
       " -1.14234   -0.923699\n",
       "  0.448052   0.211102\n",
       "\n",
       "[:, :, 2, 1, 1] =\n",
       " -0.267653  0.426609\n",
       "  1.55622   0.0341363\n",
       "\n",
       "[:, :, 1, 2, 1] =\n",
       " -0.669157  -1.38115\n",
       " -0.822224  -2.00988\n",
       "\n",
       "[:, :, 2, 2, 1] =\n",
       " -0.214248   1.7404\n",
       " -0.551261  -0.714033\n",
       "\n",
       "[:, :, 1, 1, 2] =\n",
       " -0.116505  -0.212797\n",
       " -0.335557   0.212024\n",
       "\n",
       "[:, :, 2, 1, 2] =\n",
       "  0.775133  -0.62071\n",
       " -1.72432   -0.943499\n",
       "\n",
       "[:, :, 1, 2, 2] =\n",
       " 0.601687   0.515119\n",
       " 0.964762  -0.306855\n",
       "\n",
       "[:, :, 2, 2, 2] =\n",
       " -0.21999    0.140927\n",
       " -0.0800283  0.475163"
      ]
     },
     "metadata": {},
     "output_type": "display_data"
    }
   ],
   "source": [
    "function make_tensor(site::Index)\n",
    "    # 簡単のために上下左右のボンド次元を2に固定\n",
    "    up = Index(2, \"u_$(site)\")\n",
    "    down = Index(2, \"d_$(site)\")\n",
    "    left = Index(2, \"l_$(site)\")\n",
    "    right = Index(2, \"r_$(site)\")\n",
    "    return randomITensor(site, up, down, left, right)\n",
    "end\n",
    "\n",
    "T = [make_tensor(sites[x, y]) for x in 1:Lx, y in 1:Ly]"
   ]
  },
  {
   "cell_type": "code",
   "execution_count": null,
   "id": "047edce3",
   "metadata": {},
   "outputs": [],
   "source": []
  }
 ],
 "metadata": {
  "kernelspec": {
   "display_name": "Julia 1.11.4",
   "language": "julia",
   "name": "julia-1.11"
  },
  "language_info": {
   "file_extension": ".jl",
   "mimetype": "application/julia",
   "name": "julia",
   "version": "1.11.4"
  }
 },
 "nbformat": 4,
 "nbformat_minor": 5
}
