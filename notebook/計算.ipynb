{
 "cells": [
  {
   "cell_type": "code",
   "execution_count": 1,
   "id": "fea9f2f0",
   "metadata": {},
   "outputs": [
    {
     "data": {
      "text/plain": [
       "2"
      ]
     },
     "metadata": {},
     "output_type": "display_data"
    }
   ],
   "source": [
    "1 + 1"
   ]
  },
  {
   "cell_type": "code",
   "execution_count": null,
   "id": "b1f808d9",
   "metadata": {},
   "outputs": [
    {
     "name": "stdout",
     "output_type": "stream",
     "text": [
      "Z =27.048782764334526\n"
     ]
    }
   ],
   "source": [
    "# スピン値(配列で表示)\n",
    "σ = [-1, 1]\n",
    "\n",
    "# ハミルトニアンの計算（隣接ペアの和）\n",
    "function energy(config, L, J)　#config:スピン配置を1次元配列として渡す\n",
    "    E = 0.0 #全体のエネルギーを初期化\n",
    "    for x in 1:L\n",
    "        for y in 1:L\n",
    "            s = config[(x-1)*L + y]\n",
    "            # 右隣（周期境界なし）\n",
    "            if y < L\n",
    "                s_r = config[(x-1)*L + y + 1]\n",
    "                E -= J * s * s_r\n",
    "            end\n",
    "            # 下隣\n",
    "            if x < L\n",
    "                s_d = config[x*L + y]\n",
    "                E -= J * s * s_d\n",
    "            end\n",
    "        end\n",
    "    end\n",
    "    return E\n",
    "end\n",
    "\n",
    "# 分配関数を計算\n",
    "function partition_function(L; β=1.0, J=1.0)\n",
    "    Z = 0.0\n",
    "    N = L * L\n",
    "    # 全スピン状態列挙（2^(L^2)）\n",
    "    for i in 0:(2^N - 1)\n",
    "        config = zeros(Int, N)\n",
    "        for k in 1:N\n",
    "            # ビットを使ってスピン割り当て\n",
    "            config[k] = σ[bitstring(i)[end-k+1] == '1' ? 2 : 1]\n",
    "        end\n",
    "        E = energy(config, L, J)\n",
    "        Z += exp(-β * E)\n",
    "    end\n",
    "    return Z\n",
    "end\n",
    "\n",
    "# 例：L=2, β=0.5, J=1.0\n",
    "println(\"Z =\", partition_function(2, β=0.5, J=1.0))"
   ]
  },
  {
   "cell_type": "code",
   "execution_count": 9,
   "id": "a452f22a",
   "metadata": {},
   "outputs": [
    {
     "name": "stdout",
     "output_type": "stream",
     "text": [
      "T4 = ITensor(s1, s2, s3, s4) = ITensor ord=4\n",
      "Dim 1: (dim=2|id=853|\"a,s1\")\n",
      "Dim 2: (dim=2|id=792|\"b,s2\")\n",
      "Dim 3: (dim=2|id=281|\"c,s3\")\n",
      "Dim 4: (dim=2|id=531|\"d,s4\")\n",
      "NDTensors.EmptyStorage{NDTensors.EmptyNumber, NDTensors.Dense{NDTensors.EmptyNumber, Vector{NDTensors.EmptyNumber}}}\n",
      " 2×2×2×2\n",
      "\n",
      "\n"
     ]
    },
    {
     "data": {
      "text/plain": [
       "ITensor ord=4 (dim=2|id=853|\"a,s1\") (dim=2|id=792|\"b,s2\") (dim=2|id=281|\"c,s3\") (dim=2|id=531|\"d,s4\")\n",
       "NDTensors.EmptyStorage{NDTensors.EmptyNumber, NDTensors.Dense{NDTensors.EmptyNumber, Vector{NDTensors.EmptyNumber}}}"
      ]
     },
     "metadata": {},
     "output_type": "display_data"
    }
   ],
   "source": [
    "#4脚テンソル\n",
    "s1 = Index(2, \"s1,a\")\n",
    "s2 = Index(2, \"s2,b\")\n",
    "s3 = Index(2, \"s3,c\")\n",
    "s4 = Index(2, \"s4,d\")\n",
    "\n",
    "@show T4 = ITensor(s1, s2, s3, s4) #ここで4脚テンソルの関数を作成"
   ]
  },
  {
   "cell_type": "code",
   "execution_count": 10,
   "id": "504edc2c",
   "metadata": {},
   "outputs": [
    {
     "name": "stdout",
     "output_type": "stream",
     "text": [
      "T3 = ITensor(s1, s2, s3) = ITensor ord=3\n",
      "Dim 1: (dim=2|id=324|\"a,s1\")\n",
      "Dim 2: (dim=2|id=535|\"b,s2\")\n",
      "Dim 3: (dim=2|id=600|\"c,s3\")\n",
      "NDTensors.EmptyStorage{NDTensors.EmptyNumber, NDTensors.Dense{NDTensors.EmptyNumber, Vector{NDTensors.EmptyNumber}}}\n",
      " 2×2×2\n",
      "\n",
      "\n"
     ]
    },
    {
     "data": {
      "text/plain": [
       "ITensor ord=3 (dim=2|id=324|\"a,s1\") (dim=2|id=535|\"b,s2\") (dim=2|id=600|\"c,s3\")\n",
       "NDTensors.EmptyStorage{NDTensors.EmptyNumber, NDTensors.Dense{NDTensors.EmptyNumber, Vector{NDTensors.EmptyNumber}}}"
      ]
     },
     "metadata": {},
     "output_type": "display_data"
    }
   ],
   "source": [
    "#3脚テンソル\n",
    "s1 = Index(2, \"s1,a\")\n",
    "s2 = Index(2, \"s2,b\")\n",
    "s3 = Index(2, \"s3,c\")\n",
    "\n",
    "@show T3 = ITensor(s1, s2, s3)"
   ]
  },
  {
   "cell_type": "code",
   "execution_count": 11,
   "id": "111716a8",
   "metadata": {},
   "outputs": [
    {
     "name": "stdout",
     "output_type": "stream",
     "text": [
      "T2 = ITensor(s1, s2) = ITensor ord=2\n",
      "Dim 1: (dim=2|id=695|\"a,s1\")\n",
      "Dim 2: (dim=2|id=21|\"b,s2\")\n",
      "NDTensors.EmptyStorage{NDTensors.EmptyNumber, NDTensors.Dense{NDTensors.EmptyNumber, Vector{NDTensors.EmptyNumber}}}\n",
      " 2×2\n",
      "\n",
      "\n"
     ]
    },
    {
     "data": {
      "text/plain": [
       "ITensor ord=2 (dim=2|id=695|\"a,s1\") (dim=2|id=21|\"b,s2\")\n",
       "NDTensors.EmptyStorage{NDTensors.EmptyNumber, NDTensors.Dense{NDTensors.EmptyNumber, Vector{NDTensors.EmptyNumber}}}"
      ]
     },
     "metadata": {},
     "output_type": "display_data"
    }
   ],
   "source": [
    "#2脚テンソル\n",
    "s1 = Index(2, \"s1,a\")\n",
    "s2 = Index(2, \"s2,b\")\n",
    "\n",
    "@show T2 = ITensor(s1, s2)"
   ]
  },
  {
   "cell_type": "code",
   "execution_count": 12,
   "id": "c66d7371",
   "metadata": {},
   "outputs": [
    {
     "ename": "MethodError",
     "evalue": "MethodError: no method matching getindex(::ITensor; s1::Int64, s2::Int64, s3::Int64)\nThis method may not support any kwargs.\n\nClosest candidates are:\n  getindex(::ITensor) got unsupported keyword arguments \"s1\", \"s2\", \"s3\"\n   @ ITensors ~/.julia/packages/ITensors/elsyT/src/itensor.jl:1130\n  getindex(::ITensor, Integer...) got unsupported keyword arguments \"s1\", \"s2\", \"s3\"\n   @ ITensors ~/.julia/packages/ITensors/elsyT/src/itensor.jl:1087\n  getindex(::ITensor, Union{Integer, ITensors.LastVal}...) got unsupported keyword arguments \"s1\", \"s2\", \"s3\"\n   @ ITensors ~/.julia/packages/ITensors/elsyT/src/itensor.jl:1097\n  ...\n",
     "output_type": "error",
     "traceback": [
      "MethodError: no method matching getindex(::ITensor; s1::Int64, s2::Int64, s3::Int64)\n",
      "This method may not support any kwargs.\n",
      "\n",
      "Closest candidates are:\n",
      "  getindex(::ITensor) got unsupported keyword arguments \"s1\", \"s2\", \"s3\"\n",
      "   @ ITensors ~/.julia/packages/ITensors/elsyT/src/itensor.jl:1130\n",
      "  getindex(::ITensor, Integer...) got unsupported keyword arguments \"s1\", \"s2\", \"s3\"\n",
      "   @ ITensors ~/.julia/packages/ITensors/elsyT/src/itensor.jl:1087\n",
      "  getindex(::ITensor, Union{Integer, ITensors.LastVal}...) got unsupported keyword arguments \"s1\", \"s2\", \"s3\"\n",
      "   @ ITensors ~/.julia/packages/ITensors/elsyT/src/itensor.jl:1097\n",
      "  ...\n",
      "\n",
      "\n",
      "Stacktrace:\n",
      " [1] top-level scope\n",
      "   @ ~/Tensor/notebook/jl_notebook_cell_df34fa98e69747e1a8f8a730347b8e2f_X12sZmlsZQ==.jl:2"
     ]
    }
   ],
   "source": [
    "#1D3サイトの分配関数\n",
    "Z = T3[s1=0,s2=1,s3=0] * T3[s1=0,s2=1,s3=0] \n"
   ]
  },
  {
   "cell_type": "code",
   "execution_count": null,
   "id": "89f71e03",
   "metadata": {},
   "outputs": [],
   "source": []
  }
 ],
 "metadata": {
  "kernelspec": {
   "display_name": "Julia 1.11.4",
   "language": "julia",
   "name": "julia-1.11"
  },
  "language_info": {
   "file_extension": ".jl",
   "mimetype": "application/julia",
   "name": "julia",
   "version": "1.11.4"
  }
 },
 "nbformat": 4,
 "nbformat_minor": 5
}
