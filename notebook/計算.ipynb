{
 "cells": [
  {
   "cell_type": "code",
   "execution_count": 1,
   "id": "fea9f2f0",
   "metadata": {},
   "outputs": [
    {
     "data": {
      "text/plain": [
       "2"
      ]
     },
     "metadata": {},
     "output_type": "display_data"
    }
   ],
   "source": [
    "1 + 1"
   ]
  },
  {
   "cell_type": "code",
   "execution_count": null,
   "id": "b1f808d9",
   "metadata": {},
   "outputs": [
    {
     "name": "stdout",
     "output_type": "stream",
     "text": [
      "Z =27.048782764334526\n"
     ]
    }
   ],
   "source": [
    "# スピン値(配列で表示)\n",
    "σ = [-1, 1]\n",
    "\n",
    "# ハミルトニアンの計算（隣接ペアの和）\n",
    "function energy(config, L, J)　#config:スピン配置を1次元配列として渡す\n",
    "    E = 0.0 #全体のエネルギーを初期化\n",
    "    for x in 1:L\n",
    "        for y in 1:L\n",
    "            s = config[(x-1)*L + y]\n",
    "            # 右隣（周期境界なし）\n",
    "            if y < L\n",
    "                s_r = config[(x-1)*L + y + 1]\n",
    "                E -= J * s * s_r\n",
    "            end\n",
    "            # 下隣\n",
    "            if x < L\n",
    "                s_d = config[x*L + y]\n",
    "                E -= J * s * s_d\n",
    "            end\n",
    "        end\n",
    "    end\n",
    "    return E\n",
    "end\n",
    "\n",
    "# 分配関数を計算\n",
    "function partition_function(L; β=1.0, J=1.0)\n",
    "    Z = 0.0\n",
    "    N = L * L\n",
    "    # 全スピン状態列挙（2^(L^2)）\n",
    "    for i in 0:(2^N - 1)\n",
    "        config = zeros(Int, N)\n",
    "        for k in 1:N\n",
    "            # ビットを使ってスピン割り当て\n",
    "            config[k] = σ[bitstring(i)[end-k+1] == '1' ? 2 : 1]\n",
    "        end\n",
    "        E = energy(config, L, J)\n",
    "        Z += exp(-β * E)\n",
    "    end\n",
    "    return Z\n",
    "end\n",
    "\n",
    "# 例：L=2, β=0.5, J=1.0\n",
    "println(\"Z =\", partition_function(2, β=0.5, J=1.0))"
   ]
  },
  {
   "cell_type": "code",
   "execution_count": null,
   "id": "464dc200",
   "metadata": {},
   "outputs": [],
   "source": []
  }
 ],
 "metadata": {
  "kernelspec": {
   "display_name": "Julia 1.11.4",
   "language": "julia",
   "name": "julia-1.11"
  },
  "language_info": {
   "file_extension": ".jl",
   "mimetype": "application/julia",
   "name": "julia",
   "version": "1.11.4"
  }
 },
 "nbformat": 4,
 "nbformat_minor": 5
}
