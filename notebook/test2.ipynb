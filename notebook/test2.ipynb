{
 "cells": [
  {
   "cell_type": "code",
   "execution_count": 1,
   "id": "90f4420c",
   "metadata": {},
   "outputs": [],
   "source": [
    "using Revise"
   ]
  },
  {
   "cell_type": "code",
   "execution_count": 2,
   "id": "bfe1cc89",
   "metadata": {},
   "outputs": [],
   "source": [
    "using ITensors"
   ]
  },
  {
   "cell_type": "code",
   "execution_count": 3,
   "id": "f3a7c741",
   "metadata": {},
   "outputs": [
    {
     "data": {
      "text/plain": [
       "fixend (generic function with 1 method)"
      ]
     },
     "metadata": {},
     "output_type": "display_data"
    }
   ],
   "source": [
    "function ising_transfer_element_2D(i1::Int,i2::Int,j1::Int,j2::Int,\n",
    "    β::Float64, J::Float64)\n",
    "    σ1 = 2*i1 -1 #left spin\n",
    "    σ2 = 2*i2 -1 #right spin\n",
    "    s1 = 2*j1 -1 #down spin\n",
    "    s2 = 2*j2 -1 #up spin\n",
    "    return exp(β*J*(σ1*s1 + s1*σ2 + σ2*s2 + s2*σ1))\n",
    "end\n",
    "#2Dイジングの転送行列を定義する関数\n",
    "function ising_transfer_tensor_2D(β::Float64, J::Float64,\n",
    "    σ1::Index, σ2::Index, s1::Index, s2::Index)\n",
    "    T = ITensor(σ1, σ2, s1, s2)\n",
    "    for i1 in 0:1, i2 in 0:1,\n",
    "        j1 in 0:1, j2 in 0:1\n",
    "        T[σ1=>i1+1, σ2=>i2+1, s1=>j1+1, s2=>j2+1] =\n",
    "            ising_transfer_element_2D(i1, i2, j1, j2, β, J)\n",
    "    end\n",
    "    return T\n",
    "end\n",
    "\n",
    "function fixend(ind1::Index)\n",
    "    D = ITensor(ind1)\n",
    "    D[ind1 => 1] = 1.0\n",
    "    D[ind1 => 2] = 0.0\n",
    "    return D\n",
    "end "
   ]
  },
  {
   "cell_type": "code",
   "execution_count": 6,
   "id": "48458dfb",
   "metadata": {},
   "outputs": [
    {
     "data": {
      "text/plain": [
       "ITensor ord=4 (dim=2|id=721|\"σ1\") (dim=2|id=867|\"σ2\") (dim=2|id=937|\"s1\") (dim=2|id=541|\"s2\")\n",
       "NDTensors.Dense{Float64, Vector{Float64}}"
      ]
     },
     "metadata": {},
     "output_type": "display_data"
    }
   ],
   "source": [
    "β = 1.0\n",
    "J = 1.0\n",
    "σ1 = Index(2, \"σ1\")\n",
    "σ2 = Index(2, \"σ2\")\n",
    "s1 = Index(2, \"s1\")\n",
    "s2 = Index(2, \"s2\")\n",
    "T = ising_transfer_tensor_2D(β, J,\n",
    "σ1, σ2, s1, s2)\n"
   ]
  },
  {
   "cell_type": "code",
   "execution_count": 12,
   "id": "9b6595ad",
   "metadata": {},
   "outputs": [
    {
     "data": {
      "text/plain": [
       "ITensor ord=1 (dim=2|id=937|\"s1\")\n",
       "NDTensors.Dense{Float64, Vector{Float64}}"
      ]
     },
     "metadata": {},
     "output_type": "display_data"
    }
   ],
   "source": [
    "#インデックスs1をもつ固定端\n",
    "D1 = fixend(s1) "
   ]
  },
  {
   "cell_type": "code",
   "execution_count": 31,
   "id": "93934a0d",
   "metadata": {},
   "outputs": [
    {
     "data": {
      "text/plain": [
       "ITensor ord=3 (dim=2|id=721|\"σ1\") (dim=2|id=867|\"σ2\") (dim=2|id=541|\"s2\")\n",
       "NDTensors.Dense{Float64, Vector{Float64}}"
      ]
     },
     "metadata": {},
     "output_type": "display_data"
    }
   ],
   "source": [
    "#固定端と4脚テンソルをs1に対して縮約をとった(3脚テンソル)\n",
    "T2 = T * D1"
   ]
  },
  {
   "cell_type": "code",
   "execution_count": 14,
   "id": "3f2c8bbd",
   "metadata": {},
   "outputs": [
    {
     "data": {
      "text/plain": [
       "ITensor ord=1 (dim=2|id=721|\"σ1\")\n",
       "NDTensors.Dense{Float64, Vector{Float64}}"
      ]
     },
     "metadata": {},
     "output_type": "display_data"
    }
   ],
   "source": [
    "#インデックスσ1をもつ固定端\n",
    "D2 = fixend(σ1)"
   ]
  },
  {
   "cell_type": "code",
   "execution_count": 16,
   "id": "b67b93ef",
   "metadata": {},
   "outputs": [
    {
     "data": {
      "text/plain": [
       "ITensor ord=2 (dim=2|id=867|\"σ2\") (dim=2|id=541|\"s2\")\n",
       "NDTensors.Dense{Float64, Vector{Float64}}"
      ]
     },
     "metadata": {},
     "output_type": "display_data"
    }
   ],
   "source": [
    "#T2に対して、さらに固定端とσ1で縮約をとった(つまり2脚テンソルができる)\n",
    "T3 = T2 * D2"
   ]
  },
  {
   "cell_type": "code",
   "execution_count": 33,
   "id": "159ed5b0",
   "metadata": {},
   "outputs": [
    {
     "data": {
      "text/plain": [
       "ITensor ord=3 (dim=2|id=867|\"σ2\") (dim=2|id=937|\"s1\") (dim=2|id=541|\"s2\")\n",
       "NDTensors.Dense{Float64, Vector{Float64}}"
      ]
     },
     "metadata": {},
     "output_type": "display_data"
    }
   ],
   "source": [
    "#PR\n",
    "D3 = fixend(σ1)\n",
    "T4 = T * D3"
   ]
  },
  {
   "cell_type": "code",
   "execution_count": null,
   "id": "63ef7837",
   "metadata": {},
   "outputs": [],
   "source": [
    "#角転送行列\n"
   ]
  }
 ],
 "metadata": {
  "kernelspec": {
   "display_name": "Julia 1.11.4",
   "language": "julia",
   "name": "julia-1.11"
  },
  "language_info": {
   "file_extension": ".jl",
   "mimetype": "application/julia",
   "name": "julia",
   "version": "1.11.4"
  }
 },
 "nbformat": 4,
 "nbformat_minor": 5
}
