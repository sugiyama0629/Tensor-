{
 "cells": [
  {
   "cell_type": "code",
   "execution_count": null,
   "id": "98c2cb88",
   "metadata": {},
   "outputs": [],
   "source": [
    "using ITensors\n",
    "\n",
    "# 仮のスピンインデックス\n",
    "s1 = Index(2, \"s1\")\n",
    "s2 = Index(2, \"s2\")\n",
    "s3 = Index(2, \"s3\")\n",
    "s4 = Index(2, \"s4\")\n",
    "\n",
    "# サイトテンソル（例：ボルツマン重みを使ったテンソル）\n",
    "T = ITensor(s1, s2, s3, s4)"
   ]
  },
  {
   "cell_type": "code",
   "execution_count": null,
   "id": "e935e7b0",
   "metadata": {},
   "outputs": [],
   "source": []
  }
 ],
 "metadata": {
  "kernelspec": {
   "display_name": "Julia 1.11.4",
   "language": "julia",
   "name": "julia-1.11"
  },
  "language_info": {
   "file_extension": ".jl",
   "mimetype": "application/julia",
   "name": "julia",
   "version": "1.11.4"
  }
 },
 "nbformat": 4,
 "nbformat_minor": 5
}
