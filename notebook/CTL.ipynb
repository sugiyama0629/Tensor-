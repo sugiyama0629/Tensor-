{
 "cells": [
  {
   "cell_type": "code",
   "execution_count": 1,
   "id": "91ec4562",
   "metadata": {},
   "outputs": [],
   "source": [
    "using Revise"
   ]
  },
  {
   "cell_type": "code",
   "execution_count": 2,
   "id": "ed6b0109",
   "metadata": {},
   "outputs": [],
   "source": [
    "using ITensors"
   ]
  },
  {
   "cell_type": "code",
   "execution_count": 5,
   "id": "81e0409c",
   "metadata": {},
   "outputs": [
    {
     "data": {
      "text/plain": [
       "(dim=2|id=570|\"l\")"
      ]
     },
     "metadata": {},
     "output_type": "display_data"
    }
   ],
   "source": [
    "i = Index(2, \"i\")\n",
    "j = Index(2, \"j\")\n",
    "k = Index(2, \"k\")\n",
    "l = Index(2, \"l\")"
   ]
  },
  {
   "cell_type": "code",
   "execution_count": 6,
   "id": "3be795b7",
   "metadata": {},
   "outputs": [
    {
     "data": {
      "text/plain": [
       "T (generic function with 1 method)"
      ]
     },
     "metadata": {},
     "output_type": "display_data"
    }
   ],
   "source": [
    "function T(a::Int64, b::Int64, c::Int64, d::Int64, K::Float64)\n",
    "    s1 = 2a - 1\n",
    "    s2 = 2b - 1\n",
    "    s3 = 2c - 1\n",
    "    s4 = 2d - 1\n",
    "    exponent = K * (s1*s2 + s2*s3 + s3*s4 + s4*s1)\n",
    "    return exp(exponent)\n",
    "end"
   ]
  },
  {
   "cell_type": "code",
   "execution_count": 7,
   "id": "7e59a0e5",
   "metadata": {},
   "outputs": [
    {
     "data": {
      "text/plain": [
       "ITensor ord=4 (dim=2|id=89|\"i\") (dim=2|id=603|\"j\") (dim=2|id=81|\"k\") (dim=2|id=570|\"l\")\n",
       "NDTensors.Dense{Float64, Vector{Float64}}"
      ]
     },
     "metadata": {},
     "output_type": "display_data"
    }
   ],
   "source": [
    "#4脚テンソル\n",
    "function T(i::Index{Int64}, j::Index{Int64}, k::Index{Int64}, l::Index{Int64},K_const::Float64)\n",
    "    W = ITensor(i, j, k, l)\n",
    "    for a in 0:1, b in 0:1, c in 0:1, d in 0:1\n",
    "        val = T(a, b, c, d, K_const)\n",
    "        W[i => a+1, j => b+1, k => c+1, l => d+1] = val\n",
    "    end\n",
    "    return W\n",
    "end\n",
    "\n",
    "K_const=1.0\n",
    "\n",
    "W = T(i, j, k, l,K_const)"
   ]
  },
  {
   "cell_type": "code",
   "execution_count": 8,
   "id": "21d37bf1",
   "metadata": {},
   "outputs": [
    {
     "data": {
      "text/plain": [
       "ITensor ord=2 (dim=2|id=89|\"i\") (dim=2|id=603|\"j\")\n",
       "NDTensors.Dense{Float64, Vector{Float64}}"
      ]
     },
     "metadata": {},
     "output_type": "display_data"
    }
   ],
   "source": [
    "#2脚テンソル\n",
    "c1 = Index(2, \"c1\")\n",
    "c2 = Index(2, \"c2\")\n",
    "\n",
    "function C1(i::Index{Int64}, j::Index{Int64}, k::Index{Int64}, l::Index{Int64},K_const::Float64)\n",
    "    C = ITensor(i, j, k, l)\n",
    "    for a in 0:dim(i)-1, b in 0:dim(j)-1, c in 0:1, d in 0:1\n",
    "        val = T(a, b, c, d, K_const)\n",
    "        C[i => a+1, j => b+1, k => c+1, l => d+1] = val\n",
    "    end\n",
    "\n",
    "    # c1 と c2 に関して縮約\n",
    "    δ_k = delta(k)  \n",
    "    δ_l = delta(l)  \n",
    "\n",
    "    return C * δ_k * δ_l\n",
    "end\n",
    "\n",
    "C = C1(i, j, c1, c2, K_const)"
   ]
  },
  {
   "cell_type": "code",
   "execution_count": null,
   "id": "345e8d90",
   "metadata": {},
   "outputs": [
    {
     "data": {
      "text/plain": [
       "ITensor ord=3 (dim=2|id=89|\"i\") (dim=2|id=603|\"j\") (dim=2|id=81|\"k\")\n",
       "NDTensors.Dense{Float64, Vector{Float64}}"
      ]
     },
     "metadata": {},
     "output_type": "display_data"
    }
   ],
   "source": [
    "#3脚テンソル(横)\n",
    "c1 = Index(2, \"c1\")\n",
    "\n",
    "function P1(i::Index{Int64}, j::Index{Int64}, k::Index{Int64}, l::Index{Int64},K_const::Float64)\n",
    "    P = ITensor(i, j, k, l)\n",
    "    for a in 0:dim(i)-1, b in 0:1, c in 0:dim(k)-1, d in 0:1\n",
    "        val = T(a, b, c, d, K_const)\n",
    "        P[i => a+1, j => b+1, k => c+1, l => d+1] = val\n",
    "    end\n",
    "\n",
    "    # c1 と c2 に関して縮約\n",
    "    δ_l = delta(l)  # l に関する単位テンソル\n",
    "\n",
    "    return P * δ_l\n",
    "end\n",
    "\n",
    "PR = P1(i, j, k, c1, K_const)"
   ]
  },
  {
   "cell_type": "code",
   "execution_count": 14,
   "id": "7e3a6402",
   "metadata": {},
   "outputs": [
    {
     "data": {
      "text/plain": [
       "ITensor ord=3 (dim=2|id=89|\"i\") (dim=2|id=603|\"j\") (dim=2|id=81|\"k\")\n",
       "NDTensors.Dense{Float64, Vector{Float64}}"
      ]
     },
     "metadata": {},
     "output_type": "display_data"
    }
   ],
   "source": [
    "#3脚テンソル(縦)\n",
    "c1 = Index(2, \"c1\")\n",
    "\n",
    "PC = P1(i, j, k, c1, K_const)"
   ]
  }
 ],
 "metadata": {
  "kernelspec": {
   "display_name": "Julia 1.11.4",
   "language": "julia",
   "name": "julia-1.11"
  },
  "language_info": {
   "file_extension": ".jl",
   "mimetype": "application/julia",
   "name": "julia",
   "version": "1.11.4"
  }
 },
 "nbformat": 4,
 "nbformat_minor": 5
}
